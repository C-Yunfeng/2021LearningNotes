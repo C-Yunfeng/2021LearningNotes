{
 "cells": [
  {
   "cell_type": "code",
   "execution_count": 2,
   "metadata": {},
   "outputs": [],
   "source": [
    "from imageai.Detection import ObjectDetection\n",
    "import os"
   ]
  },
  {
   "cell_type": "code",
   "execution_count": 4,
   "metadata": {
    "scrolled": true
   },
   "outputs": [],
   "source": [
    "execution_path = '../models'\n",
    "\n",
    "vshow_path ='../Datasets/Vshow'\n",
    "news_path ='../Datasets/news'\n",
    "\n",
    "detector = ObjectDetection()\n",
    "detector.setModelTypeAsRetinaNet()\n",
    "detector.setModelPath( os.path.join(execution_path , \"resnet50_coco_best_v2.0.1.h5\"))\n",
    "detector.loadModel()"
   ]
  },
  {
   "cell_type": "code",
   "execution_count": 5,
   "metadata": {},
   "outputs": [],
   "source": [
    "def TD(vshow_path,good):        \n",
    "    for x in os.listdir(os.path.join(vshow_path,good)):\n",
    "        i=x[:-4]\n",
    "        input_image=os.path.join(vshow_path ,good,x)\n",
    "        output_image_path=os.path.join(news_path ,good,\"new_{}.jpg\".format(i))\n",
    "        try:\n",
    "            custom_objects = detector.CustomObjects(bottle=True)\n",
    "            detections = detector.detectCustomObjectsFromImage(custom_objects=custom_objects, \n",
    "                                                               input_image=input_image, \n",
    "                                                               output_image_path=output_image_path,\n",
    "                                                               extract_detected_objects=True,\n",
    "                                                               minimum_percentage_probability=30\n",
    "                                                              )\n",
    "\n",
    "            for eachObject in detections[0]:\n",
    "                print(eachObject[\"name\"] , \" : \" , eachObject[\"percentage_probability\"] )\n",
    "        except:\n",
    "            continue"
   ]
  },
  {
   "cell_type": "code",
   "execution_count": 6,
   "metadata": {
    "scrolled": true
   },
   "outputs": [],
   "source": [
    "good='kafei'\n",
    "# good='jiaduobao'\n",
    "# good='nongfushanquan'\n",
    "# good='suannai'\n",
    "# good='xuebi'\n",
    "\n",
    "# 将拍摄的图片从原目录（Vshow）移至新目录（news）下\n",
    "# TD(vshow_path,good)"
   ]
  },
  {
   "cell_type": "code",
   "execution_count": 7,
   "metadata": {},
   "outputs": [
    {
     "name": "stdout",
     "output_type": "stream",
     "text": [
      "bottle  :  67.84602999687195\n",
      "bottle  :  74.04889464378357\n",
      "bottle  :  40.801966190338135\n",
      "bottle  :  76.31653547286987\n"
     ]
    }
   ],
   "source": [
    "#测试\n",
    "\n",
    "good='test'\n",
    "\n",
    "x='3.jpg'\n",
    "i=x[:-4]\n",
    "input_image=os.path.join(vshow_path ,good,x)\n",
    "output_image_path=os.path.join(news_path ,good,\"new_{}.jpg\".format(i))\n",
    "try:\n",
    "    custom_objects = detector.CustomObjects(bottle=True)\n",
    "    detections = detector.detectCustomObjectsFromImage(custom_objects=custom_objects, \n",
    "                                                       input_image=input_image, \n",
    "                                                       output_image_path=output_image_path,\n",
    "                                                       extract_detected_objects=True,\n",
    "                                                       minimum_percentage_probability=20\n",
    "                                                      )\n",
    "\n",
    "    for eachObject in detections[0]:\n",
    "        print(eachObject[\"name\"] , \" : \" , eachObject[\"percentage_probability\"] )\n",
    "\n",
    "except:\n",
    "    print(\"Error\")"
   ]
  },
  {
   "cell_type": "code",
   "execution_count": null,
   "metadata": {},
   "outputs": [],
   "source": []
  }
 ],
 "metadata": {
  "kernelspec": {
   "display_name": "Python 3",
   "language": "python",
   "name": "python3"
  },
  "language_info": {
   "codemirror_mode": {
    "name": "ipython",
    "version": 3
   },
   "file_extension": ".py",
   "mimetype": "text/x-python",
   "name": "python",
   "nbconvert_exporter": "python",
   "pygments_lexer": "ipython3",
   "version": "3.6.5"
  }
 },
 "nbformat": 4,
 "nbformat_minor": 2
}
